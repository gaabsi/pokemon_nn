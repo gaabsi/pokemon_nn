{
 "cells": [
  {
   "cell_type": "markdown",
   "metadata": {},
   "source": [
    "# Exploration du jeu de données "
   ]
  },
  {
   "cell_type": "markdown",
   "metadata": {},
   "source": [
    "*Pour récupérer le Dataset, on a automatisé ça en récupérant le token de l'API Kaggle*  \n",
    "\n",
    "*Pour récupérer le Dataset :*  \n",
    "- Aller sur [Kaggle](https://www.kaggle.com/).  \n",
    "- Se connecter à son compte ou s'inscrire.  \n",
    "- Cliquer en haut à droite sur l'icône de son profil.  \n",
    "- Aller dans la rubrique API de l'onglet settings puis \"create new token\".    \n",
    "\n",
    "*Le token de l'API Kaggle est maintenant téléchargé.*  "
   ]
  },
  {
   "cell_type": "code",
   "execution_count": null,
   "metadata": {},
   "outputs": [],
   "source": [
    "import os\n",
    "import json\n",
    "\n",
    "kaggle_path = os.path.expanduser(\"~/.kaggle\")\n",
    "kaggle_json_path = os.path.expanduser(\"~/Downloads/kaggle.json\")\n",
    "\n",
    "with open(kaggle_json_path, \"r\") as f:\n",
    "    kaggle_token = json.load(f)\n",
    "\n",
    "with open(os.path.join(kaggle_path, \"kaggle.json\"), \"w\") as f:\n",
    "    json.dump(kaggle_token, f)\n",
    "\n",
    "os.chmod(os.path.join(kaggle_path, \"kaggle.json\"), 0o600)"
   ]
  },
  {
   "cell_type": "code",
   "execution_count": null,
   "metadata": {},
   "outputs": [
    {
     "name": "stdout",
     "output_type": "stream",
     "text": [
      "Warning: Looks like you're using an outdated API Version, please consider updating (server 1.7.4.2 / client 1.6.17)\n",
      "Dataset URL: https://www.kaggle.com/datasets/mikoajkolman/pokemon-images-first-generation17000-files\n",
      "License(s): GPL-2.0\n",
      "Downloading pokemon-images-first-generation17000-files.zip to /Users/gabriel/pokemon_nn/images_pokemon\n",
      "100%|██████████████████████████████████████| 2.81G/2.81G [04:31<00:00, 10.2MB/s]\n",
      "100%|██████████████████████████████████████| 2.81G/2.81G [04:31<00:00, 11.1MB/s]\n"
     ]
    }
   ],
   "source": [
    "!kaggle datasets download -d mikoajkolman/pokemon-images-first-generation17000-files --unzip -p \"/Users/gabriel/pokemon_nn/images_pokemon\""
   ]
  },
  {
   "cell_type": "markdown",
   "metadata": {},
   "source": [
    "*Le jeu de données est déjà très propre nous n'avons pas à le clean*"
   ]
  }
 ],
 "metadata": {
  "kernelspec": {
   "display_name": "base",
   "language": "python",
   "name": "python3"
  },
  "language_info": {
   "codemirror_mode": {
    "name": "ipython",
    "version": 3
   },
   "file_extension": ".py",
   "mimetype": "text/x-python",
   "name": "python",
   "nbconvert_exporter": "python",
   "pygments_lexer": "ipython3",
   "version": "3.11.5"
  }
 },
 "nbformat": 4,
 "nbformat_minor": 2
}
