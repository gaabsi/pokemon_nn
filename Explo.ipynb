{
 "cells": [
  {
   "cell_type": "markdown",
   "metadata": {},
   "source": [
    "# Imports des librairies"
   ]
  },
  {
   "cell_type": "code",
   "execution_count": null,
   "metadata": {},
   "outputs": [],
   "source": [
    "import os \n",
    "from PIL import Image"
   ]
  },
  {
   "cell_type": "markdown",
   "metadata": {},
   "source": [
    "# Exploration du jeu de données "
   ]
  },
  {
   "cell_type": "markdown",
   "metadata": {},
   "source": [
    "## Import de la base"
   ]
  },
  {
   "cell_type": "markdown",
   "metadata": {},
   "source": [
    "*Pour récupérer le Dataset, on a automatisé ça en récupérant le token de l'API Kaggle*  \n",
    "\n",
    "*Pour récupérer le Dataset :*  \n",
    "- Aller sur [Kaggle](https://www.kaggle.com/).  \n",
    "- Se connecter à son compte ou s'inscrire.  \n",
    "- Cliquer en haut à droite sur l'icône de son profil.  \n",
    "- Aller dans la rubrique API de l'onglet settings puis \"create new token\".    \n",
    "\n",
    "*Le token de l'API Kaggle est maintenant téléchargé.*  "
   ]
  },
  {
   "cell_type": "code",
   "execution_count": null,
   "metadata": {},
   "outputs": [],
   "source": [
    "import os\n",
    "import json\n",
    "\n",
    "kaggle_path = os.path.expanduser(\"~/.kaggle\")\n",
    "kaggle_json_path = os.path.expanduser(\"~/Downloads/kaggle.json\")\n",
    "\n",
    "with open(kaggle_json_path, \"r\") as f:\n",
    "    kaggle_token = json.load(f)\n",
    "\n",
    "with open(os.path.join(kaggle_path, \"kaggle.json\"), \"w\") as f:\n",
    "    json.dump(kaggle_token, f)\n",
    "\n",
    "os.chmod(os.path.join(kaggle_path, \"kaggle.json\"), 0o600)"
   ]
  },
  {
   "cell_type": "code",
   "execution_count": null,
   "metadata": {},
   "outputs": [
    {
     "name": "stdout",
     "output_type": "stream",
     "text": [
      "Warning: Looks like you're using an outdated API Version, please consider updating (server 1.7.4.2 / client 1.6.17)\n",
      "Dataset URL: https://www.kaggle.com/datasets/mikoajkolman/pokemon-images-first-generation17000-files\n",
      "License(s): GPL-2.0\n",
      "Downloading pokemon-images-first-generation17000-files.zip to /Users/gabriel/pokemon_nn/images_pokemon\n",
      "100%|██████████████████████████████████████| 2.81G/2.81G [04:31<00:00, 10.2MB/s]\n",
      "100%|██████████████████████████████████████| 2.81G/2.81G [04:31<00:00, 11.1MB/s]\n"
     ]
    }
   ],
   "source": [
    "!kaggle datasets download -d mikoajkolman/pokemon-images-first-generation17000-files --unzip -p \"/Users/gabriel/pokemon_nn/images_pokemon\""
   ]
  },
  {
   "cell_type": "markdown",
   "metadata": {},
   "source": [
    "*Le jeu de données est déjà très propre nous n'avons pas à le clean*"
   ]
  },
  {
   "cell_type": "markdown",
   "metadata": {},
   "source": [
    "## Preview des images "
   ]
  },
  {
   "cell_type": "markdown",
   "metadata": {},
   "source": [
    "*Avant de visualiser les images, on voit qu'elles ne sont pas toutes dans le meme format.  \n",
    "On va donc standardiser tous ces formats pour avoir des images qui sont toutes au même format.*"
   ]
  },
  {
   "cell_type": "code",
   "execution_count": null,
   "metadata": {},
   "outputs": [
    {
     "data": {
      "text/plain": [
       "{'.bmp', '.gif', '.jpeg', '.jpg', '.png'}"
      ]
     },
     "execution_count": 28,
     "metadata": {},
     "output_type": "execute_result"
    }
   ],
   "source": [
    "def les_extensions_dossier_ss_dossier (dossier_parent):\n",
    "    \"\"\" \n",
    "    Fonction qui parcourt un dossier et ses sous-dossiers pour en extraire les extensions de fichiers.\n",
    "    \n",
    "    Paramètres:\n",
    "    - dossier_parent (str) : chemin du dossier parent à parcourir.\n",
    "\n",
    "    Retourne:\n",
    "    - extensions (set) : ensemble des extensions de fichiers trouvées dans le dossier et ses sous-dossiers.\n",
    "    \n",
    "    Exemple d'utilisation:\n",
    "    extensions = les_extensions_dossier_ss_dossier(\"/Users/gabriel/Desktop/pokemon\")\n",
    "    print(extensions)\n",
    "    \"\"\"\n",
    "    extensions = set()\n",
    "    for root, sous_dossier, fichiers in os.walk(dossier_parent):\n",
    "        for fichier in fichiers:\n",
    "            ext = os.path.splitext(fichier)[1].lower()  \n",
    "            extensions.add(ext)\n",
    "    return extensions\n",
    "\n",
    "dossier_parent = \"/Users/gabriel/Desktop/pokemon\"\n",
    "extensions = les_extensions_dossier_ss_dossier(dossier_parent)\n",
    "extensions\n"
   ]
  },
  {
   "cell_type": "code",
   "execution_count": 30,
   "metadata": {},
   "outputs": [],
   "source": [
    "def convertir_en_png(dossier_parent, extensions = {'.jpg', '.jpeg', '.gif', '.bmp'}):\n",
    "    \"\"\" \n",
    "    Convertit toutes les images dans un dossier et ses sous-dossiers en PNG.\n",
    "    Remplace les anciennes versions par la nouvelle en écrasant les fichiers.\n",
    "\n",
    "    Paramètres:\n",
    "    - dossier_parent (str) : chemin du dossier parent à parcourir.\n",
    "    - extensions (set) : ensemble des extensions de fichiers à convertir. \n",
    "        Par défaut : {'.jpg', '.jpeg', '.gif', '.bmp'}. (les extensions de notre dataset)\n",
    "\n",
    "    Exemple d'utilisation:\n",
    "    convertir_en_png(\"/Users/gabriel/Desktop/pokemon\")\n",
    "    \"\"\"\n",
    "    \n",
    "    for dossier_parent, sous_dossier, fichiers in os.walk(dossier_parent):\n",
    "        for fichier in fichiers:\n",
    "            file_path = os.path.join(dossier_parent, fichier)\n",
    "            extension = os.path.splitext(fichier)[1].lower()\n",
    "\n",
    "            if extension in extensions:\n",
    "                try:\n",
    "                    with Image.open(file_path) as img:\n",
    "                        new_file_path = os.path.splitext(file_path)[0] + \".png\"\n",
    "                        img.convert(\"RGBA\").save(new_file_path, format=\"PNG\")\n",
    "                        os.remove(file_path)\n",
    "                except Exception as e:\n",
    "                    print(e)\n",
    "\n",
    "dossier_parent = \"/Users/gabriel/Desktop/pokemon\"\n",
    "convertir_en_png(dossier_parent)"
   ]
  }
 ],
 "metadata": {
  "kernelspec": {
   "display_name": "base",
   "language": "python",
   "name": "python3"
  },
  "language_info": {
   "codemirror_mode": {
    "name": "ipython",
    "version": 3
   },
   "file_extension": ".py",
   "mimetype": "text/x-python",
   "name": "python",
   "nbconvert_exporter": "python",
   "pygments_lexer": "ipython3",
   "version": "3.11.5"
  }
 },
 "nbformat": 4,
 "nbformat_minor": 2
}
