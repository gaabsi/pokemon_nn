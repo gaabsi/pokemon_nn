{
 "cells": [
  {
   "cell_type": "markdown",
   "metadata": {},
   "source": [
    "# Exploration du jeu de données "
   ]
  },
  {
   "cell_type": "markdown",
   "metadata": {},
   "source": [
    "*Pour récupérer le Dataset, on a automatisé ça en récupérant le token de l'API Kaggle*  \n",
    "\n",
    "*Pour récupérer le Dataset :*  \n",
    "- Aller sur [Kaggle](https://www.kaggle.com/).  \n",
    "- Se connecter à son compte ou s'inscrire.  \n",
    "- Cliquer en haut à droite sur l'icône de son profil.  \n",
    "- Aller dans la rubrique API de l'onglet settings puis \"create new token\".    \n",
    "\n",
    "*Le token de l'API Kaggle est maintenant téléchargé.*  "
   ]
  },
  {
   "cell_type": "markdown",
   "metadata": {},
   "source": [
    "*Le jeu de données est déjà très propre nous n'avons pas à le clean*"
   ]
  }
 ],
 "metadata": {
  "kernelspec": {
   "display_name": "base",
   "language": "python",
   "name": "python3"
  },
  "language_info": {
   "codemirror_mode": {
    "name": "ipython",
    "version": 3
   },
   "file_extension": ".py",
   "mimetype": "text/x-python",
   "name": "python",
   "nbconvert_exporter": "python",
   "pygments_lexer": "ipython3",
   "version": "3.11.5"
  }
 },
 "nbformat": 4,
 "nbformat_minor": 2
}
